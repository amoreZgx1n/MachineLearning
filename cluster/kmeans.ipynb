{
 "cells": [
  {
   "cell_type": "markdown",
   "metadata": {},
   "source": [
    "## k-means"
   ]
  },
  {
   "cell_type": "markdown",
   "metadata": {},
   "source": [
    "再贴一下kmeans算法基本步骤\n",
    "\n",
    "<img src=\"https://amore.oss-cn-hangzhou.aliyuncs.com/img/20220716064157.png\" width=\"50%\" height=\"50%\" />\n",
    "\n",
    "总结为：while{确定簇中心、簇分配}->簇中心不变为止 "
   ]
  },
  {
   "cell_type": "code",
   "execution_count": 40,
   "metadata": {},
   "outputs": [],
   "source": [
    "import numpy as np\n",
    "import pandas as pd\n"
   ]
  },
  {
   "cell_type": "code",
   "execution_count": 41,
   "metadata": {},
   "outputs": [],
   "source": [
    "from sklearn import datasets\n",
    "\n",
    "\n",
    "def load_data(path):\n",
    "    \"\"\"\n",
    "    @brief  load csv data\n",
    "    @param  path->str document path\n",
    "    @return dataset->Dataframe pandas Dataframe\n",
    "    \"\"\"\n",
    "    dataset = pd.read_csv(path)\n",
    "    return dataset"
   ]
  },
  {
   "cell_type": "code",
   "execution_count": 42,
   "metadata": {},
   "outputs": [],
   "source": [
    "def eucli(vecA, vecB):\n",
    "    \"\"\"\n",
    "    @brief  use L2 normal funtion\n",
    "    @param  vecA->vector one point\n",
    "    @param  vecA->vector one point\n",
    "    @return ->float the euclidean distance\n",
    "    \"\"\"\n",
    "    return np.sqrt(sum((vecA - vecB)**2))"
   ]
  },
  {
   "cell_type": "code",
   "execution_count": 43,
   "metadata": {},
   "outputs": [],
   "source": [
    "def rand_centers(data_mat, k):\n",
    "    \"\"\"\n",
    "    @brief  initialize random centers\n",
    "    @param  data_mat->Dataframe pandas Dataframe\n",
    "    @param  k->int number of categories\n",
    "    @return centers->matrix set of random centers\n",
    "    \"\"\"\n",
    "    n = np.shape(data_mat)[1]\n",
    "    centers = np.mat(np.zeros((k, n)))\n",
    "    for j in range(n):  # 常用的随机初始化方法，防止取到太偏的点\n",
    "        minJ = min(data_mat[:, j]) \n",
    "        rangeJ = float(max(data_mat[:, j]) - minJ)\n",
    "        centers[:,j] = np.mat(minJ + rangeJ * np.random.rand(k, 1))\n",
    "    return centers"
   ]
  },
  {
   "cell_type": "code",
   "execution_count": null,
   "metadata": {},
   "outputs": [],
   "source": [
    "def kmeans(data_mat, k, dist=\"euclid\", create_centers=\"rand_centers\"):\n",
    "    "
   ]
  },
  {
   "cell_type": "code",
   "execution_count": 47,
   "metadata": {},
   "outputs": [
    {
     "data": {
      "text/plain": [
       "array([[0.01616032],\n",
       "       [0.64320202]])"
      ]
     },
     "execution_count": 47,
     "metadata": {},
     "output_type": "execute_result"
    }
   ],
   "source": []
  }
 ],
 "metadata": {
  "kernelspec": {
   "display_name": "Python 3.9.7 ('base')",
   "language": "python",
   "name": "python3"
  },
  "language_info": {
   "codemirror_mode": {
    "name": "ipython",
    "version": 3
   },
   "file_extension": ".py",
   "mimetype": "text/x-python",
   "name": "python",
   "nbconvert_exporter": "python",
   "pygments_lexer": "ipython3",
   "version": "3.9.7"
  },
  "orig_nbformat": 4,
  "vscode": {
   "interpreter": {
    "hash": "ee441bae90118555e53c6eac45a988b6e508448446b99bef61e56cdaf53e7845"
   }
  }
 },
 "nbformat": 4,
 "nbformat_minor": 2
}
