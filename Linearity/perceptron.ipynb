{
 "cells": [
  {
   "cell_type": "markdown",
   "id": "99727d72",
   "metadata": {},
   "source": [
    "# logistic regression"
   ]
  },
  {
   "cell_type": "markdown",
   "id": "cf0f9d76",
   "metadata": {},
   "source": [
    "## data"
   ]
  },
  {
   "cell_type": "code",
   "execution_count": 1,
   "id": "b0887e9b",
   "metadata": {},
   "outputs": [],
   "source": [
    "%matplotlib inline\n",
    "\n",
    "import numpy as np\n",
    "import pandas as pd\n",
    "import matplotlib.pyplot as plt\n",
    "\n",
    "import scipy.optimize as opt"
   ]
  },
  {
   "cell_type": "code",
   "execution_count": 2,
   "id": "14b8a848",
   "metadata": {},
   "outputs": [
    {
     "data": {
      "text/html": [
       "<div>\n",
       "<style scoped>\n",
       "    .dataframe tbody tr th:only-of-type {\n",
       "        vertical-align: middle;\n",
       "    }\n",
       "\n",
       "    .dataframe tbody tr th {\n",
       "        vertical-align: top;\n",
       "    }\n",
       "\n",
       "    .dataframe thead th {\n",
       "        text-align: right;\n",
       "    }\n",
       "</style>\n",
       "<table border=\"1\" class=\"dataframe\">\n",
       "  <thead>\n",
       "    <tr style=\"text-align: right;\">\n",
       "      <th></th>\n",
       "      <th>exam1</th>\n",
       "      <th>exam2</th>\n",
       "      <th>admitted</th>\n",
       "    </tr>\n",
       "  </thead>\n",
       "  <tbody>\n",
       "    <tr>\n",
       "      <th>0</th>\n",
       "      <td>34.623660</td>\n",
       "      <td>78.024693</td>\n",
       "      <td>0</td>\n",
       "    </tr>\n",
       "    <tr>\n",
       "      <th>1</th>\n",
       "      <td>30.286711</td>\n",
       "      <td>43.894998</td>\n",
       "      <td>0</td>\n",
       "    </tr>\n",
       "    <tr>\n",
       "      <th>2</th>\n",
       "      <td>35.847409</td>\n",
       "      <td>72.902198</td>\n",
       "      <td>0</td>\n",
       "    </tr>\n",
       "    <tr>\n",
       "      <th>3</th>\n",
       "      <td>60.182599</td>\n",
       "      <td>86.308552</td>\n",
       "      <td>1</td>\n",
       "    </tr>\n",
       "    <tr>\n",
       "      <th>4</th>\n",
       "      <td>79.032736</td>\n",
       "      <td>75.344376</td>\n",
       "      <td>1</td>\n",
       "    </tr>\n",
       "  </tbody>\n",
       "</table>\n",
       "</div>"
      ],
      "text/plain": [
       "       exam1      exam2  admitted\n",
       "0  34.623660  78.024693         0\n",
       "1  30.286711  43.894998         0\n",
       "2  35.847409  72.902198         0\n",
       "3  60.182599  86.308552         1\n",
       "4  79.032736  75.344376         1"
      ]
     },
     "execution_count": 2,
     "metadata": {},
     "output_type": "execute_result"
    }
   ],
   "source": [
    "data = pd.read_csv('../data/Linearity/ex2data1.txt', names=['exam1', 'exam2', 'admitted'])\n",
    "data.head()"
   ]
  },
  {
   "cell_type": "code",
   "execution_count": 3,
   "id": "1da120ff",
   "metadata": {},
   "outputs": [
    {
     "data": {
      "text/html": [
       "<div>\n",
       "<style scoped>\n",
       "    .dataframe tbody tr th:only-of-type {\n",
       "        vertical-align: middle;\n",
       "    }\n",
       "\n",
       "    .dataframe tbody tr th {\n",
       "        vertical-align: top;\n",
       "    }\n",
       "\n",
       "    .dataframe thead th {\n",
       "        text-align: right;\n",
       "    }\n",
       "</style>\n",
       "<table border=\"1\" class=\"dataframe\">\n",
       "  <thead>\n",
       "    <tr style=\"text-align: right;\">\n",
       "      <th></th>\n",
       "      <th>exam1</th>\n",
       "      <th>exam2</th>\n",
       "      <th>admitted</th>\n",
       "    </tr>\n",
       "  </thead>\n",
       "  <tbody>\n",
       "    <tr>\n",
       "      <th>count</th>\n",
       "      <td>100.000000</td>\n",
       "      <td>100.000000</td>\n",
       "      <td>100.000000</td>\n",
       "    </tr>\n",
       "    <tr>\n",
       "      <th>mean</th>\n",
       "      <td>65.644274</td>\n",
       "      <td>66.221998</td>\n",
       "      <td>0.600000</td>\n",
       "    </tr>\n",
       "    <tr>\n",
       "      <th>std</th>\n",
       "      <td>19.458222</td>\n",
       "      <td>18.582783</td>\n",
       "      <td>0.492366</td>\n",
       "    </tr>\n",
       "    <tr>\n",
       "      <th>min</th>\n",
       "      <td>30.058822</td>\n",
       "      <td>30.603263</td>\n",
       "      <td>0.000000</td>\n",
       "    </tr>\n",
       "    <tr>\n",
       "      <th>25%</th>\n",
       "      <td>50.919511</td>\n",
       "      <td>48.179205</td>\n",
       "      <td>0.000000</td>\n",
       "    </tr>\n",
       "    <tr>\n",
       "      <th>50%</th>\n",
       "      <td>67.032988</td>\n",
       "      <td>67.682381</td>\n",
       "      <td>1.000000</td>\n",
       "    </tr>\n",
       "    <tr>\n",
       "      <th>75%</th>\n",
       "      <td>80.212529</td>\n",
       "      <td>79.360605</td>\n",
       "      <td>1.000000</td>\n",
       "    </tr>\n",
       "    <tr>\n",
       "      <th>max</th>\n",
       "      <td>99.827858</td>\n",
       "      <td>98.869436</td>\n",
       "      <td>1.000000</td>\n",
       "    </tr>\n",
       "  </tbody>\n",
       "</table>\n",
       "</div>"
      ],
      "text/plain": [
       "            exam1       exam2    admitted\n",
       "count  100.000000  100.000000  100.000000\n",
       "mean    65.644274   66.221998    0.600000\n",
       "std     19.458222   18.582783    0.492366\n",
       "min     30.058822   30.603263    0.000000\n",
       "25%     50.919511   48.179205    0.000000\n",
       "50%     67.032988   67.682381    1.000000\n",
       "75%     80.212529   79.360605    1.000000\n",
       "max     99.827858   98.869436    1.000000"
      ]
     },
     "execution_count": 3,
     "metadata": {},
     "output_type": "execute_result"
    }
   ],
   "source": [
    "data.describe()"
   ]
  },
  {
   "cell_type": "code",
   "execution_count": 4,
   "id": "5b9015a8",
   "metadata": {},
   "outputs": [],
   "source": [
    "positive = data[data['admitted'].isin([1])]\n",
    "negetive = data[data['admitted'].isin([0])]"
   ]
  },
  {
   "cell_type": "code",
   "execution_count": 5,
   "id": "d100b9bf",
   "metadata": {},
   "outputs": [
    {
     "data": {
      "image/png": "[encoded data removed]",
      "text/plain": [
       "<Figure size 432x360 with 1 Axes>"
      ]
     },
     "metadata": {
      "needs_background": "light"
     },
     "output_type": "display_data"
    }
   ],
   "source": [
    "fig, ax = plt.subplots(figsize=(6,5))\n",
    "ax.scatter(positive['exam1'], positive['exam2'], c='b', label='Admitted')\n",
    "ax.scatter(negetive['exam1'], negetive['exam2'], c='r', marker='x', label='Not Admitted')\n",
    "ax.legend(ncol=3)\n",
    "ax.set_xlabel('Exam 1 Score')\n",
    "ax.set_ylabel('Exam 2 Score')\n",
    "plt.show()"
   ]
  },
  {
   "cell_type": "markdown",
   "id": "87014e57",
   "metadata": {},
   "source": [
    "## data proccess"
   ]
  },
  {
   "cell_type": "code",
   "execution_count": 6,
   "id": "f981b205",
   "metadata": {},
   "outputs": [],
   "source": [
    "X_pre = data.iloc[:, :-1]\n",
    "y_pre = data.iloc[:, -1]\n",
    "X_pre.insert(0, 'Ones', 1)# 用于准确度检验和scipy掉包时用"
   ]
  },
  {
   "cell_type": "code",
   "execution_count": 7,
   "id": "3cee805b",
   "metadata": {},
   "outputs": [],
   "source": [
    "# data = (data - data.mean()) / data.std()    # 归一化\n",
    "data.insert(0, 'Ones', 1)"
   ]
  },
  {
   "cell_type": "code",
   "execution_count": 8,
   "id": "8475c57c",
   "metadata": {},
   "outputs": [
    {
     "data": {
      "text/plain": [
       "((100, 3), (3,), (100,))"
      ]
     },
     "execution_count": 8,
     "metadata": {},
     "output_type": "execute_result"
    }
   ],
   "source": [
    "X = data.iloc[:, :-1]\n",
    "y = data.iloc[:, -1]\n",
    "\n",
    "X = np.array(X)\n",
    "y = np.array(y)\n",
    "theta = np.array(np.zeros(X.shape[1]))\n",
    "X.shape, theta.shape, y.shape"
   ]
  },
  {
   "cell_type": "markdown",
   "id": "8fb7cd2a",
   "metadata": {},
   "source": [
    "## gradient descent"
   ]
  },
  {
   "cell_type": "markdown",
   "id": "01851249",
   "metadata": {},
   "source": [
    "sigmoid函数：<br>\n",
    "$$\n",
    "g(z)=\\frac{1}{1+e^{-z}}\n",
    "$$"
   ]
  },
  {
   "cell_type": "code",
   "execution_count": 9,
   "id": "1b123d79",
   "metadata": {},
   "outputs": [],
   "source": [
    "def sigmoid(z):\n",
    "    return 1 / (1 + np.exp(- z))"
   ]
  },
  {
   "cell_type": "markdown",
   "id": "8fa2bc9b",
   "metadata": {},
   "source": [
    "代价函数公式：<br>\n",
    "$$\n",
    "J(\\theta)=\\frac{1}{m} \\sum_{i=1}^{m}\\left[-y^{(i)} \\log \\left(h_{\\theta}\\left(x^{(i)}\\right)\\right)-\\left(1-y^{(i)}\\right) \\log \\left(1-h_{\\theta}\\left(x^{(i)}\\right)\\right)\\right]\n",
    "$$"
   ]
  },
  {
   "cell_type": "code",
   "execution_count": 10,
   "id": "af933168",
   "metadata": {},
   "outputs": [],
   "source": [
    "def computeCost(theta, X, y):\n",
    "    first = (-y) * np.log(sigmoid(X @ theta) + 1e-5)\n",
    "    second = (1 - y) * np.log(1 - sigmoid(X @ theta) + 1e-5)\n",
    "    return np.mean(first - second)    # Cross-entropy Loss"
   ]
  },
  {
   "cell_type": "code",
   "execution_count": 11,
   "id": "52877b6c",
   "metadata": {},
   "outputs": [
    {
     "data": {
      "text/plain": [
       "0.6931271807599428"
      ]
     },
     "execution_count": 11,
     "metadata": {},
     "output_type": "execute_result"
    }
   ],
   "source": [
    "computeCost(theta, X, y)"
   ]
  },
  {
   "cell_type": "code",
   "execution_count": 12,
   "id": "1cbe135a",
   "metadata": {},
   "outputs": [
    {
     "data": {
      "text/plain": [
       "(array([ 0.1       , 12.00921659, 11.26284221]), 4.60516418601809)"
      ]
     },
     "execution_count": 12,
     "metadata": {},
     "output_type": "execute_result"
    }
   ],
   "source": [
    "theta = theta - (X.T @ (sigmoid(X @ theta) - y))/len(X)\n",
    "theta, computeCost(theta, X, y)"
   ]
  },
  {
   "cell_type": "markdown",
   "id": "ec1ec093",
   "metadata": {},
   "source": [
    "梯度公式：<br>\n",
    "$$\n",
    "\\frac{\\partial J(\\omega)}{\\partial \\omega_{j}}=\\frac{1}{m} \\sum_{i=1}^{m}\\left(h_{\\omega}\\left(x^{(i)}\\right)-y^{(i)}\\right) x_{j}^{(i)}\n",
    "$$"
   ]
  },
  {
   "cell_type": "code",
   "execution_count": 13,
   "id": "9617c3ba",
   "metadata": {},
   "outputs": [],
   "source": [
    "def gradient(theta, X, y):\n",
    "    return (X.T @ (sigmoid(X @ theta) - y))/len(X)"
   ]
  },
  {
   "cell_type": "code",
   "execution_count": 14,
   "id": "eb037112",
   "metadata": {},
   "outputs": [
    {
     "data": {
      "text/plain": [
       "array([ 0.4       , 20.81292044, 21.84815684])"
      ]
     },
     "execution_count": 14,
     "metadata": {},
     "output_type": "execute_result"
    }
   ],
   "source": [
    "gradient(theta, X, y)"
   ]
  },
  {
   "cell_type": "code",
   "execution_count": 15,
   "id": "ce2a9514",
   "metadata": {},
   "outputs": [],
   "source": [
    "def batch_gradientDescent(X, y, theta, alpha, batch) ->list:\n",
    "\n",
    "    temp = np.array(np.zeros(theta.shape))\n",
    "    cost = np.zeros(batch)\n",
    "    \n",
    "    for i in range(batch):\n",
    "        temp = theta - alpha * gradient(theta, X, y)\n",
    "        theta = temp\n",
    "        cost[i] = computeCost(theta, X, y)\n",
    "        \n",
    "    return theta, cost"
   ]
  },
  {
   "cell_type": "code",
   "execution_count": 16,
   "id": "5cb426ae",
   "metadata": {},
   "outputs": [],
   "source": [
    "alpha = 0.0001\n",
    "batch = 300000\n",
    "res, cost = batch_gradientDescent(X, y, theta, alpha, batch)"
   ]
  },
  {
   "cell_type": "code",
   "execution_count": 17,
   "id": "d76c25ae",
   "metadata": {},
   "outputs": [
    {
     "data": {
      "text/plain": [
       "Text(0.5, 1.0, 'Error vs. Training Epoch  lr=0.0001')"
      ]
     },
     "execution_count": 17,
     "metadata": {},
     "output_type": "execute_result"
    },
    {
     "data": {
      "image/png": "[encoded data removed]",
      "text/plain": [
       "<Figure size 576x288 with 1 Axes>"
      ]
     },
     "metadata": {
      "needs_background": "light"
     },
     "output_type": "display_data"
    }
   ],
   "source": [
    "fig, ax = plt.subplots(figsize=(8,4))\n",
    "ax.plot(np.arange(batch), cost, 'r')\n",
    "ax.set_xlabel('Iterations')\n",
    "ax.set_ylabel('Cost')\n",
    "ax.set_title('Error vs. Training Epoch  lr=0.0001')\n",
    "# plt.show()"
   ]
  },
  {
   "cell_type": "code",
   "execution_count": 18,
   "id": "0cb738bc",
   "metadata": {},
   "outputs": [],
   "source": [
    "def predict(theta, X) -> list:\n",
    "    prob = sigmoid(X @ theta)\n",
    "    return [1 if x >= 0.5 else 0 for x in prob]"
   ]
  },
  {
   "cell_type": "code",
   "execution_count": 19,
   "id": "76aeba6c",
   "metadata": {},
   "outputs": [],
   "source": [
    "res = predict(theta, X)\n",
    "res = np.array(res)"
   ]
  },
  {
   "cell_type": "code",
   "execution_count": 20,
   "id": "252b494f",
   "metadata": {},
   "outputs": [
    {
     "name": "stdout",
     "output_type": "stream",
     "text": [
      "训练集准确率： 0.6\n"
     ]
    }
   ],
   "source": [
    "from sklearn.metrics import accuracy_score\n",
    "print(\"训练集准确率：\", accuracy_score(y_pre, res))"
   ]
  },
  {
   "cell_type": "markdown",
   "id": "d839d71d",
   "metadata": {},
   "source": [
    "## Summarize"
   ]
  },
  {
   "cell_type": "markdown",
   "id": "f627494f",
   "metadata": {},
   "source": [
    "我在实现算法的时候进行了调试优化，分别是有无归一化和步长、epoch增加与减小。"
   ]
  },
  {
   "cell_type": "markdown",
   "id": "6e4a6720",
   "metadata": {},
   "source": [
    "是否归一化的比较\n",
    "\n",
    "<center class=\"half\">\n",
    "<img src=\"../img/logistic1.png\" title=\"归一化\" width=\"400\"/><img src=\"../img/logistic2.png\" title=\"未归一化\" width=\"400\"/>\n",
    "</center>"
   ]
  },
  {
   "cell_type": "markdown",
   "id": "25c8eb9e",
   "metadata": {},
   "source": [
    "关于归一化之后的"
   ]
  },
  {
   "cell_type": "markdown",
   "id": "3f3cd478",
   "metadata": {},
   "source": [
    "## using Scipy"
   ]
  },
  {
   "cell_type": "code",
   "execution_count": 21,
   "id": "aa875418",
   "metadata": {},
   "outputs": [],
   "source": [
    "theta = np.array(np.zeros(X.shape[1]))"
   ]
  },
  {
   "cell_type": "code",
   "execution_count": 22,
   "id": "bf6ed4de",
   "metadata": {},
   "outputs": [],
   "source": [
    "theta0 = opt.fmin_tnc(func=computeCost, x0=theta, fprime=gradient, args=(X_pre, y_pre))[0]\n",
    "res0 = predict(theta0, X_pre)"
   ]
  },
  {
   "cell_type": "code",
   "execution_count": 23,
   "id": "f09ee119",
   "metadata": {},
   "outputs": [
    {
     "name": "stdout",
     "output_type": "stream",
     "text": [
      "训练集准确率： 0.89\n"
     ]
    }
   ],
   "source": [
    "from sklearn.metrics import accuracy_score\n",
    "print(\"训练集准确率：\", accuracy_score(y_pre, res0))"
   ]
  }
 ],
 "metadata": {
  "kernelspec": {
   "display_name": "Python 3.9.7 ('base')",
   "language": "python",
   "name": "python3"
  },
  "language_info": {
   "codemirror_mode": {
    "name": "ipython",
    "version": 3
   },
   "file_extension": ".py",
   "mimetype": "text/x-python",
   "name": "python",
   "nbconvert_exporter": "python",
   "pygments_lexer": "ipython3",
   "version": "3.9.7"
  },
  "vscode": {
   "interpreter": {
    "hash": "ee441bae90118555e53c6eac45a988b6e508448446b99bef61e56cdaf53e7845"
   }
  }
 },
 "nbformat": 4,
 "nbformat_minor": 5
}
